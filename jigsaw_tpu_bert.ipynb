{
  "cells": [
    {
      "cell_type": "code",
      "execution_count": null,
      "metadata": {
        "_cell_guid": "b1076dfc-b9ad-4769-8c92-a6c4dae69d19",
        "_uuid": "8f2839f25d086af736a60e9eeb907d3b93b6e0e5",
        "id": "Ve05B31p6k6Z"
      },
      "outputs": [],
      "source": [
        "import os\n",
        "import warnings\n",
        "\n",
        "import numpy as np\n",
        "import pandas as pd\n",
        "import tensorflow as tf\n",
        "from tensorflow.keras.layers import Dense, Input\n",
        "from tensorflow.keras.optimizers import Adam\n",
        "from tensorflow.keras.models import Model\n",
        "from tensorflow.keras.callbacks import ModelCheckpoint\n",
        "from kaggle_datasets import KaggleDatasets\n",
        "import transformers\n",
        "import traitlets\n",
        "import matplotlib.pyplot as plt\n",
        "import seaborn as sns\n",
        "from tqdm.notebook import tqdm\n",
        "from tokenizers import BertWordPieceTokenizer\n",
        "from sklearn.metrics import roc_auc_score\n",
        "\n",
        "warnings.simplefilter(\"ignore\")"
      ]
    },
    {
      "cell_type": "markdown",
      "metadata": {
        "id": "oqxSLj1B6k6a"
      },
      "source": [
        "## Helper Functions"
      ]
    },
    {
      "cell_type": "code",
      "execution_count": null,
      "metadata": {
        "id": "An0tI4Ty6k6a"
      },
      "outputs": [],
      "source": [
        "class TextTransformation:\n",
        "    def __call__(self, text: str, lang: str = None) -> tuple:\n",
        "        raise NotImplementedError('Abstarct')   \n",
        "        \n",
        "class LowerCaseTransformation(TextTransformation):\n",
        "    def __call__(self, text: str, lang: str = None) -> tuple:\n",
        "        return text.lower(), lang\n",
        "    \n",
        "    \n",
        "class URLTransformation(TextTransformation):\n",
        "    def __call__(self, text: str, lang: str = None) -> tuple:\n",
        "        for url in self.find_urls(text):\n",
        "            if url in text:\n",
        "                text.replace(url, ' external link ')\n",
        "        return text.lower(), lang\n",
        "    \n",
        "    @staticmethod\n",
        "    def find_urls(string): \n",
        "        # https://www.geeksforgeeks.org/python-check-url-string/\n",
        "        urls = re.findall('http[s]?://(?:[a-zA-Z]|[0-9]|[$-_@.&+]|[!*\\(\\), ]|(?:%[0-9a-fA-F][0-9a-fA-F]))+', string) \n",
        "        return urls \n",
        "    \n",
        "class PunctuationTransformation(TextTransformation):\n",
        "    def __call__(self, text: str, lang: str = None) -> tuple:\n",
        "        for p in '?!.,\"#$%\\'()*+-/:;<=>@[\\\\]^_`{|}~' + '“”’' +\"/-'\" + \"&\" + \"¡¿\":\n",
        "            if '’' in text:\n",
        "                text = text.replace('’', f' \\' ')\n",
        "                \n",
        "            if '’' in text:\n",
        "                text = text.replace('’', f' \\' ')\n",
        "              \n",
        "            if '—' in text:\n",
        "                text = text.replace('—', f' - ')\n",
        "                \n",
        "            if '−' in text:\n",
        "                text = text.replace('−', f' - ')   \n",
        "                \n",
        "            if '–' in text:\n",
        "                text = text.replace('–', f' - ')   \n",
        "              \n",
        "            if '“' in text:\n",
        "                text = text.replace('“', f' \" ')   \n",
        "                \n",
        "            if '«' in text:\n",
        "                text = text.replace('«', f' \" ')   \n",
        "                \n",
        "            if '»' in text:\n",
        "                text = text.replace('»', f' \" ')   \n",
        "            \n",
        "            if '”' in text:\n",
        "                text = text.replace('”', f' \" ') \n",
        "                \n",
        "            if '`' in text:\n",
        "                text = text.replace('`', f' \\' ')              \n",
        "\n",
        "            text = text.replace(p, f' {p} ')\n",
        "                \n",
        "        return text.strip(), lang\n",
        "    \n",
        "    \n",
        "class NumericTransformation(TextTransformation):\n",
        "    def __call__(self, text: str, lang: str = None) -> tuple:\n",
        "        for i in range(10):\n",
        "            text = text.replace(str(i), f' {str(i)} ')\n",
        "        return text, lang\n",
        "    \n",
        "class WikiTransformation(TextTransformation):\n",
        "    def __call__(self, text: str, lang: str = None) -> tuple:\n",
        "        text = text.replace('wikiproject', ' wiki project ')\n",
        "        for i in [' vikipedi ', ' wiki ', ' википедии ', \" вики \", ' википедия ', ' viki ', ' wikipedien ', ' википедию ']:\n",
        "            text = text.replace(i, ' wikipedia ')\n",
        "        return text, lang\n",
        "    \n",
        "    \n",
        "class MessageTransformation(TextTransformation):\n",
        "    def __call__(self, text: str, lang: str = None) -> tuple:\n",
        "        text = text.replace('wikiproject', ' wiki project ')\n",
        "        for i in [' msg ', ' msj ', ' mesaj ']:\n",
        "            text = text.replace(i, ' message ')\n",
        "        return text, lang\n",
        "    \n",
        "    \n",
        "class PixelTransformation(TextTransformation):\n",
        "    def __call__(self, text: str, lang: str = None) -> tuple:\n",
        "        for i in [' px ']:\n",
        "            text = text.replace(i, ' pixel ')\n",
        "        return text, lang\n",
        "    \n",
        "    \n",
        "class SaleBotTransformation(TextTransformation):\n",
        "    def __call__(self, text: str, lang: str = None) -> tuple:\n",
        "        text = text.replace('salebot', ' sale bot ')\n",
        "        return text, lang\n",
        "    \n",
        "    \n",
        "class RuTransformation(TextTransformation):\n",
        "    def __call__(self, text: str, lang: str = None) -> tuple:\n",
        "        if lang is not None and lang == 'ru' and 'http' not in text and 'jpg' not in text and 'wikipedia' not in text:\n",
        "            text = text.replace('t', 'т')\n",
        "            text = text.replace('h', 'н')\n",
        "            text = text.replace('b', 'в')\n",
        "            text = text.replace('c', 'c')\n",
        "            text = text.replace('k', 'к')\n",
        "            text = text.replace('e', 'е')\n",
        "            text = text.replace('a', 'а')\n",
        "        return text, lang\n",
        "    \n",
        "class CombineTransformation(TextTransformation):\n",
        "    def __init__(self, transformations: list, return_lang: bool = False):\n",
        "        self._transformations = transformations\n",
        "        self._return_lang = return_lang\n",
        "        \n",
        "    def __call__(self, text: str, lang: str = None) -> tuple:\n",
        "        for transformation in self._transformations:\n",
        "            text, lang = transformation(text, lang)\n",
        "        if self._return_lang:\n",
        "            return text, lang\n",
        "        return text\n",
        "    \n",
        "    def append(self, transformation: TextTransformation):\n",
        "        self._transformations.append(transformation)"
      ]
    },
    {
      "cell_type": "code",
      "execution_count": null,
      "metadata": {
        "_cell_guid": "79c7e3d0-c299-4dcb-8224-4455121ee9b0",
        "_uuid": "d629ff2d2480ee46fbb7e2d37f6b5fab8052498a",
        "id": "Ks4C_5B66k6c"
      },
      "outputs": [],
      "source": [
        "def fast_encode(texts, tokenizer, chunk_size=256, maxlen=512):\n",
        "    tokenizer.enable_truncation(max_length=maxlen)\n",
        "    tokenizer.enable_padding(max_length=maxlen)\n",
        "    all_ids = []\n",
        "    \n",
        "    for i in tqdm(range(0, len(texts), chunk_size)):\n",
        "        text_chunk = texts[i:i+chunk_size].tolist()\n",
        "        encs = tokenizer.encode_batch(text_chunk)\n",
        "        all_ids.extend([enc.ids for enc in encs])\n",
        "    \n",
        "    return np.array(all_ids)"
      ]
    },
    {
      "cell_type": "code",
      "execution_count": null,
      "metadata": {
        "id": "2KH3hG-86k6c"
      },
      "outputs": [],
      "source": [
        "def build_model(transformer, loss='binary_crossentropy', max_len=512):\n",
        "    input_word_ids = Input(shape=(max_len,), dtype=tf.int32, name=\"input_word_ids\")\n",
        "    sequence_output = transformer(input_word_ids)[0]\n",
        "    cls_token = sequence_output[:, 0, :]\n",
        "    x = tf.keras.layers.Dropout(0.35)(cls_token)\n",
        "    out = Dense(1, activation='sigmoid')(x)\n",
        "    \n",
        "    model = Model(inputs=input_word_ids, outputs=out)\n",
        "    model.compile(Adam(lr=3e-5), loss=loss, metrics=[tf.keras.metrics.AUC()])\n",
        "    \n",
        "    return model"
      ]
    },
    {
      "cell_type": "markdown",
      "metadata": {
        "id": "Vj7riPTw6k6d"
      },
      "source": [
        "Cosine similarity calculates similarity by measuring the cosine of angle between two vectors. This is calculated as:\n",
        "![](https://miro.medium.com/max/426/1*hub04IikybZIBkSEcEOtGA.png)\n",
        "\n",
        "Cosine Similarity calculation for two vectors A and B [source]\n",
        "With cosine similarity, we need to convert sentences into vectors. One way to do that is to use bag of words with either TF (term frequency) or TF-IDF (term frequency- inverse document frequency). The choice of TF or TF-IDF depends on application and is immaterial to how cosine similarity is actually performed — which just needs vectors. TF is good for text similarity in general, but TF-IDF is good for search query relevance."
      ]
    },
    {
      "cell_type": "code",
      "execution_count": null,
      "metadata": {
        "id": "2u8orxPJ6k6d",
        "outputId": "d7edd54d-44df-42e6-a947-b7b2140f5900"
      },
      "outputs": [
        {
          "name": "stdout",
          "output_type": "stream",
          "text": [
            "[nltk_data] Downloading package punkt to /usr/share/nltk_data...\n",
            "[nltk_data]   Package punkt is already up-to-date!\n"
          ]
        }
      ],
      "source": [
        "# https://stackoverflow.com/questions/8897593/how-to-compute-the-similarity-between-two-text-documents\n",
        "import nltk, string\n",
        "from sklearn.feature_extraction.text import TfidfVectorizer\n",
        "\n",
        "nltk.download('punkt') # if necessary...\n",
        "\n",
        "\n",
        "stemmer = nltk.stem.porter.PorterStemmer()\n",
        "remove_punctuation_map = dict((ord(char), None) for char in string.punctuation)\n",
        "\n",
        "def stem_tokens(tokens):\n",
        "    return [stemmer.stem(item) for item in tokens]\n",
        "\n",
        "'''remove punctuation, lowercase, stem'''\n",
        "def normalize(text):\n",
        "    return stem_tokens(nltk.word_tokenize(text.lower().translate(remove_punctuation_map)))\n",
        "\n",
        "vectorizer = TfidfVectorizer(tokenizer=normalize, stop_words='english')\n",
        "\n",
        "def cosine_sim(text1, text2):\n",
        "    tfidf = vectorizer.fit_transform([text1, text2])\n",
        "    return ((tfidf * tfidf.T).A)[0,1]"
      ]
    },
    {
      "cell_type": "markdown",
      "metadata": {
        "id": "DFSu2PK76k6e"
      },
      "source": [
        "## TPU Configs"
      ]
    },
    {
      "cell_type": "code",
      "execution_count": null,
      "metadata": {
        "id": "iMeILw_F6k6e"
      },
      "outputs": [],
      "source": [
        "AUTO = tf.data.experimental.AUTOTUNE\n",
        "\n",
        "# Create strategy from tpu\n",
        "tpu = tf.distribute.cluster_resolver.TPUClusterResolver()\n",
        "tf.config.experimental_connect_to_cluster(tpu)\n",
        "tf.tpu.experimental.initialize_tpu_system(tpu)\n",
        "strategy = tf.distribute.experimental.TPUStrategy(tpu)\n",
        "\n",
        "# Data access\n",
        "#GCS_DS_PATH = KaggleDatasets().get_gcs_path('kaggle/input/') "
      ]
    },
    {
      "cell_type": "markdown",
      "metadata": {
        "id": "4y69zp__6k6e"
      },
      "source": [
        "## Create fast tokenizer"
      ]
    },
    {
      "cell_type": "code",
      "execution_count": null,
      "metadata": {
        "colab": {
          "referenced_widgets": [
            "afb556d428844eaa953af8f1a3cc3772"
          ]
        },
        "id": "7wp4x6Iy6k6e",
        "outputId": "7d06f3c5-c59a-499b-fcd8-e3e83f6d5f2f"
      },
      "outputs": [
        {
          "data": {
            "application/vnd.jupyter.widget-view+json": {
              "model_id": "afb556d428844eaa953af8f1a3cc3772",
              "version_major": 2,
              "version_minor": 0
            },
            "text/plain": [
              "HBox(children=(FloatProgress(value=0.0, description='Downloading', max=213450.0, style=ProgressStyle(descripti…"
            ]
          },
          "metadata": {},
          "output_type": "display_data"
        },
        {
          "name": "stdout",
          "output_type": "stream",
          "text": [
            "\n"
          ]
        },
        {
          "data": {
            "text/plain": [
              "Tokenizer(vocabulary_size=28996, model=BertWordPiece, add_special_tokens=True, unk_token=[UNK], sep_token=[SEP], cls_token=[CLS], clean_text=True, handle_chinese_chars=True, strip_accents=True, lowercase=False, wordpieces_prefix=##)"
            ]
          },
          "execution_count": 7,
          "metadata": {},
          "output_type": "execute_result"
        }
      ],
      "source": [
        "# First load the real tokenizer\n",
        "tokenizer = transformers.BertTokenizer.from_pretrained('bert-base-cased')\n",
        "\n",
        "# Save the loaded tokenizer locally\n",
        "save_path = '/kaggle/working/distilbert_base_uncased/'\n",
        "if not os.path.exists(save_path):\n",
        "    os.makedirs(save_path)\n",
        "tokenizer.save_pretrained(save_path)\n",
        "\n",
        "# Reload it with the huggingface tokenizers library\n",
        "fast_tokenizer = BertWordPieceTokenizer('distilbert_base_uncased/vocab.txt', lowercase=False)\n",
        "fast_tokenizer"
      ]
    },
    {
      "cell_type": "markdown",
      "metadata": {
        "id": "Q_zMr1xO6k6f"
      },
      "source": [
        "## Load text data into memory"
      ]
    },
    {
      "cell_type": "code",
      "execution_count": null,
      "metadata": {
        "id": "V2x_y29k6k6f"
      },
      "outputs": [],
      "source": [
        "transformer = CombineTransformation(\n",
        "    [\n",
        "        LowerCaseTransformation(),\n",
        "        PunctuationTransformation(),\n",
        "        NumericTransformation(),\n",
        "        PixelTransformation(),\n",
        "        MessageTransformation(),\n",
        "        WikiTransformation(),\n",
        "        SaleBotTransformation()\n",
        "    ]\n",
        ")"
      ]
    },
    {
      "cell_type": "code",
      "execution_count": null,
      "metadata": {
        "id": "8Rha33au6k6f"
      },
      "outputs": [],
      "source": [
        "train1 = pd.read_csv(\"/kaggle/input/jigsaw-multilingual-toxic-comment-classification/jigsaw-toxic-comment-train.csv\")\n",
        "train1['comment_text'] = train1.apply(lambda x: transformer(x.comment_text), axis=1)\n",
        "#train2 = pd.read_csv(\"/kaggle/input/jigsaw-multilingual-toxic-comment-classification/jigsaw-unintended-bias-train.csv\")\n",
        "\n",
        "valid1 = pd.read_csv('/kaggle/input/val-en-df/validation_en.csv')\n",
        "valid1['comment_text'] = valid1.apply(lambda x: transformer(x.comment_text_en), axis=1)\n",
        "valid2 = pd.read_csv('/kaggle/input/jigsaw-multilingual-toxic-test-translated/jigsaw_miltilingual_valid_translated.csv')\n",
        "valid2['comment_text'] = valid2.apply(lambda x: transformer(x.translated), axis=1)\n",
        "test1 = pd.read_csv('/kaggle/input/test-en-df/test_en.csv')\n",
        "test1['comment_text'] = test1.apply(lambda x: transformer(x.content_en), axis=1)\n",
        "test2 = pd.read_csv('/kaggle/input/jigsaw-multilingual-toxic-test-translated/jigsaw_miltilingual_test_translated.csv')\n",
        "test2['comment_text'] = test2.apply(lambda x: transformer(x.translated), axis=1)\n",
        "sub = pd.read_csv('/kaggle/input/jigsaw-multilingual-toxic-comment-classification/sample_submission.csv')"
      ]
    },
    {
      "cell_type": "code",
      "execution_count": null,
      "metadata": {
        "id": "Fo88r6qe6k6f",
        "outputId": "9c09d955-d380-4113-ac55-54953f12bcc9"
      },
      "outputs": [
        {
          "data": {
            "text/html": [
              "<div>\n",
              "<style scoped>\n",
              "    .dataframe tbody tr th:only-of-type {\n",
              "        vertical-align: middle;\n",
              "    }\n",
              "\n",
              "    .dataframe tbody tr th {\n",
              "        vertical-align: top;\n",
              "    }\n",
              "\n",
              "    .dataframe thead th {\n",
              "        text-align: right;\n",
              "    }\n",
              "</style>\n",
              "<table border=\"1\" class=\"dataframe\">\n",
              "  <thead>\n",
              "    <tr style=\"text-align: right;\">\n",
              "      <th></th>\n",
              "      <th>id</th>\n",
              "      <th>content</th>\n",
              "      <th>lang</th>\n",
              "      <th>content_en</th>\n",
              "      <th>comment_text</th>\n",
              "    </tr>\n",
              "  </thead>\n",
              "  <tbody>\n",
              "    <tr>\n",
              "      <th>63797</th>\n",
              "      <td>63797</td>\n",
              "      <td>« sans oublier WP:CON vu que vous affirmez des...</td>\n",
              "      <td>fr</td>\n",
              "      <td>\"Well WP: CON seen you claim things you believ...</td>\n",
              "      <td>\" well wp :  con seen you claim things you bel...</td>\n",
              "    </tr>\n",
              "    <tr>\n",
              "      <th>63798</th>\n",
              "      <td>63798</td>\n",
              "      <td>Caro editor(a), bem-vindo(a) à Wikipédia. Enco...</td>\n",
              "      <td>pt</td>\n",
              "      <td>Dear Editor (a) welcome (a) to the Wikipedia....</td>\n",
              "      <td>dear editor  ( a )  welcome  ( a )  to the wik...</td>\n",
              "    </tr>\n",
              "    <tr>\n",
              "      <th>63799</th>\n",
              "      <td>63799</td>\n",
              "      <td>Предлагаю добавить вот ещё что про коммерческу...</td>\n",
              "      <td>ru</td>\n",
              "      <td>I propose to add one more thing about the comm...</td>\n",
              "      <td>i propose to add one more thing about the comm...</td>\n",
              "    </tr>\n",
              "    <tr>\n",
              "      <th>63800</th>\n",
              "      <td>63800</td>\n",
              "      <td>C’est très marrant , vous réagissez comme une ...</td>\n",
              "      <td>fr</td>\n",
              "      <td>It's very funny, you react like a chicken stri...</td>\n",
              "      <td>it  '  s very funny ,  you react like a chicke...</td>\n",
              "    </tr>\n",
              "    <tr>\n",
              "      <th>63801</th>\n",
              "      <td>63801</td>\n",
              "      <td>... получил сталинскую премию за музыку к филь...</td>\n",
              "      <td>ru</td>\n",
              "      <td>... I received the Stalin Prize for his music ...</td>\n",
              "      <td>.  .  .  i received the stalin prize for his m...</td>\n",
              "    </tr>\n",
              "    <tr>\n",
              "      <th>63802</th>\n",
              "      <td>63802</td>\n",
              "      <td>Ckallogo.jpg lisans sorunu 64px|left|Dosya tel...</td>\n",
              "      <td>tr</td>\n",
              "      <td>Ckallogo.jpg license issue 64px | left | Thank...</td>\n",
              "      <td>ckallogo . jpg license issue  6  4 pixel  |  l...</td>\n",
              "    </tr>\n",
              "    <tr>\n",
              "      <th>63803</th>\n",
              "      <td>63803</td>\n",
              "      <td>Разумеется Вам, как неспециалисту трудно вести...</td>\n",
              "      <td>ru</td>\n",
              "      <td>Of course you, as the layman is difficult to ...</td>\n",
              "      <td>of course you ,  as the layman is difficult to...</td>\n",
              "    </tr>\n",
              "    <tr>\n",
              "      <th>63804</th>\n",
              "      <td>63804</td>\n",
              "      <td>Te agradezco tu cordial mensaje. De los cambio...</td>\n",
              "      <td>es</td>\n",
              "      <td>I appreciate your friendly message. The change...</td>\n",
              "      <td>i appreciate your friendly message .  the chan...</td>\n",
              "    </tr>\n",
              "    <tr>\n",
              "      <th>63805</th>\n",
              "      <td>63805</td>\n",
              "      <td>Amigo mio, quien diría que esta travesía de lo...</td>\n",
              "      <td>es</td>\n",
              "      <td>My friend, who would say that this crossing of...</td>\n",
              "      <td>my friend ,  who would say that this crossing ...</td>\n",
              "    </tr>\n",
              "    <tr>\n",
              "      <th>63806</th>\n",
              "      <td>63806</td>\n",
              "      <td>Evet haklısın telifli etiketi koymuşsun demişi...</td>\n",
              "      <td>tr</td>\n",
              "      <td>Yes, you're right, I've put the label, but of ...</td>\n",
              "      <td>yes ,  you  '  re right ,  i  '  ve put the la...</td>\n",
              "    </tr>\n",
              "    <tr>\n",
              "      <th>63807</th>\n",
              "      <td>63807</td>\n",
              "      <td>No, non risponderò, come preannunciato. Prefer...</td>\n",
              "      <td>it</td>\n",
              "      <td>No, I will not answer, as previously announced...</td>\n",
              "      <td>no ,  i will not answer ,  as previously annou...</td>\n",
              "    </tr>\n",
              "    <tr>\n",
              "      <th>63808</th>\n",
              "      <td>63808</td>\n",
              "      <td>Ciao, I tecnici della Wikimedia Foundation sta...</td>\n",
              "      <td>it</td>\n",
              "      <td>Hello, The technicians of the Wikimedia Founda...</td>\n",
              "      <td>hello ,  the technicians of the wikimedia foun...</td>\n",
              "    </tr>\n",
              "    <tr>\n",
              "      <th>63809</th>\n",
              "      <td>63809</td>\n",
              "      <td>innnazitutto ti ringrazio per i ringraziamenti...</td>\n",
              "      <td>it</td>\n",
              "      <td>innnazitutto thank you for thanks !! ) Is one ...</td>\n",
              "      <td>innnazitutto thank you for thanks  !  !   )  i...</td>\n",
              "    </tr>\n",
              "    <tr>\n",
              "      <th>63810</th>\n",
              "      <td>63810</td>\n",
              "      <td>Kaç olumlu oy gerekiyor? Şu an 7 oldu.  Hayırl...</td>\n",
              "      <td>tr</td>\n",
              "      <td>How many need a positive vote? It was currentl...</td>\n",
              "      <td>how many need a positive vote ?  it was curren...</td>\n",
              "    </tr>\n",
              "    <tr>\n",
              "      <th>63811</th>\n",
              "      <td>63811</td>\n",
              "      <td>Te pido disculpas. La verdad es que no me perc...</td>\n",
              "      <td>es</td>\n",
              "      <td>I apologize. The truth is that I noticed deta...</td>\n",
              "      <td>i apologize .  the truth is that i noticed det...</td>\n",
              "    </tr>\n",
              "  </tbody>\n",
              "</table>\n",
              "</div>"
            ],
            "text/plain": [
              "          id                                            content lang  \\\n",
              "63797  63797  « sans oublier WP:CON vu que vous affirmez des...   fr   \n",
              "63798  63798  Caro editor(a), bem-vindo(a) à Wikipédia. Enco...   pt   \n",
              "63799  63799  Предлагаю добавить вот ещё что про коммерческу...   ru   \n",
              "63800  63800  C’est très marrant , vous réagissez comme une ...   fr   \n",
              "63801  63801  ... получил сталинскую премию за музыку к филь...   ru   \n",
              "63802  63802  Ckallogo.jpg lisans sorunu 64px|left|Dosya tel...   tr   \n",
              "63803  63803  Разумеется Вам, как неспециалисту трудно вести...   ru   \n",
              "63804  63804  Te agradezco tu cordial mensaje. De los cambio...   es   \n",
              "63805  63805  Amigo mio, quien diría que esta travesía de lo...   es   \n",
              "63806  63806  Evet haklısın telifli etiketi koymuşsun demişi...   tr   \n",
              "63807  63807  No, non risponderò, come preannunciato. Prefer...   it   \n",
              "63808  63808  Ciao, I tecnici della Wikimedia Foundation sta...   it   \n",
              "63809  63809  innnazitutto ti ringrazio per i ringraziamenti...   it   \n",
              "63810  63810  Kaç olumlu oy gerekiyor? Şu an 7 oldu.  Hayırl...   tr   \n",
              "63811  63811  Te pido disculpas. La verdad es que no me perc...   es   \n",
              "\n",
              "                                              content_en  \\\n",
              "63797  \"Well WP: CON seen you claim things you believ...   \n",
              "63798   Dear Editor (a) welcome (a) to the Wikipedia....   \n",
              "63799  I propose to add one more thing about the comm...   \n",
              "63800  It's very funny, you react like a chicken stri...   \n",
              "63801  ... I received the Stalin Prize for his music ...   \n",
              "63802  Ckallogo.jpg license issue 64px | left | Thank...   \n",
              "63803   Of course you, as the layman is difficult to ...   \n",
              "63804  I appreciate your friendly message. The change...   \n",
              "63805  My friend, who would say that this crossing of...   \n",
              "63806  Yes, you're right, I've put the label, but of ...   \n",
              "63807  No, I will not answer, as previously announced...   \n",
              "63808  Hello, The technicians of the Wikimedia Founda...   \n",
              "63809  innnazitutto thank you for thanks !! ) Is one ...   \n",
              "63810  How many need a positive vote? It was currentl...   \n",
              "63811   I apologize. The truth is that I noticed deta...   \n",
              "\n",
              "                                            comment_text  \n",
              "63797  \" well wp :  con seen you claim things you bel...  \n",
              "63798  dear editor  ( a )  welcome  ( a )  to the wik...  \n",
              "63799  i propose to add one more thing about the comm...  \n",
              "63800  it  '  s very funny ,  you react like a chicke...  \n",
              "63801  .  .  .  i received the stalin prize for his m...  \n",
              "63802  ckallogo . jpg license issue  6  4 pixel  |  l...  \n",
              "63803  of course you ,  as the layman is difficult to...  \n",
              "63804  i appreciate your friendly message .  the chan...  \n",
              "63805  my friend ,  who would say that this crossing ...  \n",
              "63806  yes ,  you  '  re right ,  i  '  ve put the la...  \n",
              "63807  no ,  i will not answer ,  as previously annou...  \n",
              "63808  hello ,  the technicians of the wikimedia foun...  \n",
              "63809  innnazitutto thank you for thanks  !  !   )  i...  \n",
              "63810  how many need a positive vote ?  it was curren...  \n",
              "63811  i apologize .  the truth is that i noticed det...  "
            ]
          },
          "execution_count": 10,
          "metadata": {},
          "output_type": "execute_result"
        }
      ],
      "source": [
        "test1.tail(15)"
      ]
    },
    {
      "cell_type": "markdown",
      "metadata": {
        "id": "EShxBw0R6k6g"
      },
      "source": [
        "## Test dataset comparision"
      ]
    },
    {
      "cell_type": "code",
      "execution_count": null,
      "metadata": {
        "id": "z99L1pRu6k6g",
        "outputId": "63a70c91-aa94-4226-a5a0-ba3f88798e3d"
      },
      "outputs": [
        {
          "data": {
            "image/png": "[encoded data removed]",
            "text/plain": [
              "<Figure size 864x576 with 1 Axes>"
            ]
          },
          "metadata": {
            "needs_background": "light"
          },
          "output_type": "display_data"
        }
      ],
      "source": [
        "plt.figure(figsize=(12, 8))\n",
        "\n",
        "sns.distplot(train1.comment_text.str.len(), label='train')\n",
        "sns.distplot(test1.content_en.str.len(), label='test1')\n",
        "sns.distplot(test2.translated.str.len(), label='test2')\n",
        "plt.legend();"
      ]
    },
    {
      "cell_type": "code",
      "execution_count": null,
      "metadata": {
        "id": "34WCHV-u6k6g",
        "outputId": "2213ec0c-8811-4326-ad70-425a31dcd773"
      },
      "outputs": [
        {
          "data": {
            "image/png": "[encoded data removed]",
            "text/plain": [
              "<Figure size 864x576 with 1 Axes>"
            ]
          },
          "metadata": {
            "needs_background": "light"
          },
          "output_type": "display_data"
        }
      ],
      "source": [
        "plt.figure(figsize=(12, 8))\n",
        "\n",
        "sns.distplot(train1.comment_text.str.len(), label='train')\n",
        "sns.distplot(test1.content_en.str.len(), label='test1')\n",
        "sns.distplot(test2.translated.str.len(), label='test2')\n",
        "plt.xlim([0, 512])\n",
        "plt.legend();"
      ]
    },
    {
      "cell_type": "markdown",
      "metadata": {
        "id": "7bhILZVx6k6h"
      },
      "source": [
        "Lets calculate cosine similarity two translated test datasets."
      ]
    },
    {
      "cell_type": "markdown",
      "metadata": {
        "id": "L09vBDwV6k6h"
      },
      "source": [
        "test_set_similarity = [cosine_sim(t1, t2) for t1, t2 in tqdm(zip(test1.content_en, test2.translated))]\n",
        "\n",
        "plt.figure(figsize=(12, 8))\n",
        "\n",
        "sns.distplot(test_set_similarity);"
      ]
    },
    {
      "cell_type": "markdown",
      "metadata": {
        "id": "jPOBFjyn6k6h"
      },
      "source": [
        "## Fast encode"
      ]
    },
    {
      "cell_type": "code",
      "execution_count": null,
      "metadata": {
        "colab": {
          "referenced_widgets": [
            "91f623764a444aad90c0031cd461c6c5",
            "bdadb2fdd3b04a99ad3912eecf442c2e",
            "1cd02d1726f644b186c30cda8f0ec6fb",
            "05db096550fc4dbb8ba7469e766f45ae",
            "4a56c38d29454f3781cf5a1b260f8cc1"
          ]
        },
        "id": "eCUArkhT6k6h",
        "outputId": "38ace729-2e4b-43f0-b223-16e034b15b4a"
      },
      "outputs": [
        {
          "data": {
            "application/vnd.jupyter.widget-view+json": {
              "model_id": "91f623764a444aad90c0031cd461c6c5",
              "version_major": 2,
              "version_minor": 0
            },
            "text/plain": [
              "HBox(children=(FloatProgress(value=0.0, max=874.0), HTML(value='')))"
            ]
          },
          "metadata": {},
          "output_type": "display_data"
        },
        {
          "name": "stdout",
          "output_type": "stream",
          "text": [
            "\n"
          ]
        },
        {
          "data": {
            "application/vnd.jupyter.widget-view+json": {
              "model_id": "bdadb2fdd3b04a99ad3912eecf442c2e",
              "version_major": 2,
              "version_minor": 0
            },
            "text/plain": [
              "HBox(children=(FloatProgress(value=0.0, max=32.0), HTML(value='')))"
            ]
          },
          "metadata": {},
          "output_type": "display_data"
        },
        {
          "name": "stdout",
          "output_type": "stream",
          "text": [
            "\n"
          ]
        },
        {
          "data": {
            "application/vnd.jupyter.widget-view+json": {
              "model_id": "1cd02d1726f644b186c30cda8f0ec6fb",
              "version_major": 2,
              "version_minor": 0
            },
            "text/plain": [
              "HBox(children=(FloatProgress(value=0.0, max=32.0), HTML(value='')))"
            ]
          },
          "metadata": {},
          "output_type": "display_data"
        },
        {
          "name": "stdout",
          "output_type": "stream",
          "text": [
            "\n"
          ]
        },
        {
          "data": {
            "application/vnd.jupyter.widget-view+json": {
              "model_id": "05db096550fc4dbb8ba7469e766f45ae",
              "version_major": 2,
              "version_minor": 0
            },
            "text/plain": [
              "HBox(children=(FloatProgress(value=0.0, max=250.0), HTML(value='')))"
            ]
          },
          "metadata": {},
          "output_type": "display_data"
        },
        {
          "name": "stdout",
          "output_type": "stream",
          "text": [
            "\n"
          ]
        },
        {
          "data": {
            "application/vnd.jupyter.widget-view+json": {
              "model_id": "4a56c38d29454f3781cf5a1b260f8cc1",
              "version_major": 2,
              "version_minor": 0
            },
            "text/plain": [
              "HBox(children=(FloatProgress(value=0.0, max=250.0), HTML(value='')))"
            ]
          },
          "metadata": {},
          "output_type": "display_data"
        },
        {
          "name": "stdout",
          "output_type": "stream",
          "text": [
            "\n"
          ]
        }
      ],
      "source": [
        "x_train = fast_encode(train1.comment_text.astype(str), fast_tokenizer, maxlen=512)\n",
        "x_valid1 = fast_encode(valid1.comment_text_en.astype(str), fast_tokenizer, maxlen=512)\n",
        "x_valid2 = fast_encode(valid2.translated.astype(str), fast_tokenizer, maxlen=512)\n",
        "x_valid = np.concatenate([x_valid1, x_valid2], axis=0)\n",
        "x_test1 = fast_encode(test1.content_en.astype(str), fast_tokenizer, maxlen=512)\n",
        "x_test2 = fast_encode(test2.translated.astype(str), fast_tokenizer, maxlen=512)\n",
        "\n",
        "y_train = train1.toxic.values\n",
        "y_valid1 = valid1.toxic.values\n",
        "y_valid2 = valid2.toxic.values\n",
        "y_valid = np.concatenate([y_valid1, y_valid2], axis=0)"
      ]
    },
    {
      "cell_type": "markdown",
      "metadata": {
        "id": "EhSoSwt_6k6i"
      },
      "source": [
        "## Build datasets objects"
      ]
    },
    {
      "cell_type": "code",
      "execution_count": null,
      "metadata": {
        "id": "3V7Ht_z36k6i"
      },
      "outputs": [],
      "source": [
        "train_dataset = (\n",
        "    tf.data.Dataset\n",
        "    .from_tensor_slices((x_train, y_train))\n",
        "    .repeat()\n",
        "    .shuffle(2048)\n",
        "    .batch(64)\n",
        "    .prefetch(AUTO)\n",
        ")\n",
        "\n",
        "valid_dataset = (\n",
        "    tf.data.Dataset\n",
        "    .from_tensor_slices((x_valid, y_valid))\n",
        "    .batch(64)\n",
        "    .cache()\n",
        "    .prefetch(AUTO)\n",
        ")\n",
        "\n",
        "test_dataset = [(\n",
        "    tf.data.Dataset\n",
        "    .from_tensor_slices(x_test1)\n",
        "    .batch(64)\n",
        "),\n",
        "    (\n",
        "    tf.data.Dataset\n",
        "    .from_tensor_slices(x_test2)\n",
        "    .batch(64)\n",
        ")]"
      ]
    },
    {
      "cell_type": "markdown",
      "metadata": {
        "id": "L2gMzEcV6k6i"
      },
      "source": [
        "# Focal Loss"
      ]
    },
    {
      "cell_type": "code",
      "execution_count": null,
      "metadata": {
        "id": "xyLg8kDa6k6i"
      },
      "outputs": [],
      "source": [
        "from tensorflow.keras import backend as K\n",
        "\n",
        "def focal_loss(gamma=2., alpha=.2):\n",
        "    def focal_loss_fixed(y_true, y_pred):\n",
        "        pt_1 = tf.where(tf.equal(y_true, 1), y_pred, tf.ones_like(y_pred))\n",
        "        pt_0 = tf.where(tf.equal(y_true, 0), y_pred, tf.zeros_like(y_pred))\n",
        "        return -K.mean(alpha * K.pow(1. - pt_1, gamma) * K.log(pt_1)) - K.mean((1 - alpha) * K.pow(pt_0, gamma) * K.log(1. - pt_0))\n",
        "    return focal_loss_fixed"
      ]
    },
    {
      "cell_type": "markdown",
      "metadata": {
        "id": "Kjjx_aib6k6i"
      },
      "source": [
        "## Load model into the TPU"
      ]
    },
    {
      "cell_type": "code",
      "execution_count": null,
      "metadata": {
        "colab": {
          "referenced_widgets": [
            "17d847de6cdb486688f2880b6c6f27ee",
            "3318ffe875a64cf8a9e55aa45dc73b40"
          ]
        },
        "id": "Z_EJwoaR6k6i",
        "outputId": "2d417d06-eaac-421f-a2a4-3ddcb5dc6769"
      },
      "outputs": [
        {
          "data": {
            "application/vnd.jupyter.widget-view+json": {
              "model_id": "17d847de6cdb486688f2880b6c6f27ee",
              "version_major": 2,
              "version_minor": 0
            },
            "text/plain": [
              "HBox(children=(FloatProgress(value=0.0, description='Downloading', max=433.0, style=ProgressStyle(description_…"
            ]
          },
          "metadata": {},
          "output_type": "display_data"
        },
        {
          "name": "stdout",
          "output_type": "stream",
          "text": [
            "\n"
          ]
        },
        {
          "data": {
            "application/vnd.jupyter.widget-view+json": {
              "model_id": "3318ffe875a64cf8a9e55aa45dc73b40",
              "version_major": 2,
              "version_minor": 0
            },
            "text/plain": [
              "HBox(children=(FloatProgress(value=0.0, description='Downloading', max=526681800.0, style=ProgressStyle(descri…"
            ]
          },
          "metadata": {},
          "output_type": "display_data"
        },
        {
          "name": "stdout",
          "output_type": "stream",
          "text": [
            "\n",
            "Model: \"model\"\n",
            "_________________________________________________________________\n",
            "Layer (type)                 Output Shape              Param #   \n",
            "=================================================================\n",
            "input_word_ids (InputLayer)  [(None, 512)]             0         \n",
            "_________________________________________________________________\n",
            "tf_bert_model (TFBertModel)  ((None, 512, 768), (None, 108310272 \n",
            "_________________________________________________________________\n",
            "tf_op_layer_strided_slice (T [(None, 768)]             0         \n",
            "_________________________________________________________________\n",
            "dropout_37 (Dropout)         (None, 768)               0         \n",
            "_________________________________________________________________\n",
            "dense (Dense)                (None, 1)                 769       \n",
            "=================================================================\n",
            "Total params: 108,311,041\n",
            "Trainable params: 108,311,041\n",
            "Non-trainable params: 0\n",
            "_________________________________________________________________\n",
            "CPU times: user 22.5 s, sys: 6.54 s, total: 29.1 s\n",
            "Wall time: 44.4 s\n"
          ]
        }
      ],
      "source": [
        "%%time\n",
        "with strategy.scope():\n",
        "    transformer_layer = transformers.TFBertModel.from_pretrained('bert-base-cased')\n",
        "    model = build_model(transformer_layer, loss=focal_loss(gamma=1.5), max_len=512)\n",
        "model.summary()"
      ]
    },
    {
      "cell_type": "markdown",
      "metadata": {
        "id": "M_mGd65k6k6j"
      },
      "source": [
        "## RocAuc Callback"
      ]
    },
    {
      "cell_type": "code",
      "execution_count": null,
      "metadata": {
        "id": "Yse9U3yM6k6j"
      },
      "outputs": [],
      "source": [
        "from tensorflow.keras.callbacks import Callback \n",
        "\n",
        "class RocAucCallback(Callback):\n",
        "    def __init__(self, test_data, score_thr):\n",
        "        self.test_data = test_data\n",
        "        self.score_thr = score_thr\n",
        "        self.test_pred = []\n",
        "        \n",
        "    def on_epoch_end(self, epoch, logs=None):\n",
        "        if logs['val_auc'] > self.score_thr:\n",
        "            print('\\nRun TTA...')\n",
        "            for td in self.test_data:\n",
        "                self.test_pred.append(self.model.predict(td))"
      ]
    },
    {
      "cell_type": "markdown",
      "metadata": {
        "id": "6lhMLGtH6k6j"
      },
      "source": [
        "# LrScheduler"
      ]
    },
    {
      "cell_type": "code",
      "execution_count": null,
      "metadata": {
        "id": "Rs71yiKQ6k6j"
      },
      "outputs": [],
      "source": [
        "def build_lrfn(lr_start=0.000001, lr_max=0.000004, \n",
        "               lr_min=0.0000001, lr_rampup_epochs=7, \n",
        "               lr_sustain_epochs=0, lr_exp_decay=.87):\n",
        "    lr_max = lr_max * strategy.num_replicas_in_sync\n",
        "\n",
        "    def lrfn(epoch):\n",
        "        if epoch < lr_rampup_epochs:\n",
        "            lr = (lr_max - lr_start) / lr_rampup_epochs * epoch + lr_start\n",
        "        elif epoch < lr_rampup_epochs + lr_sustain_epochs:\n",
        "            lr = lr_max\n",
        "        else:\n",
        "            lr = (lr_max - lr_min) * lr_exp_decay**(epoch - lr_rampup_epochs - lr_sustain_epochs) + lr_min\n",
        "        return lr\n",
        "    \n",
        "    return lrfn"
      ]
    },
    {
      "cell_type": "code",
      "execution_count": null,
      "metadata": {
        "id": "DECadOjX6k6j",
        "outputId": "9afd3885-4fbf-4acf-d4b3-4de8e947b09c"
      },
      "outputs": [
        {
          "data": {
            "image/png": "[encoded data removed]",
            "text/plain": [
              "<Figure size 720x504 with 1 Axes>"
            ]
          },
          "metadata": {
            "needs_background": "light"
          },
          "output_type": "display_data"
        }
      ],
      "source": [
        "import matplotlib.pyplot as plt\n",
        "\n",
        "plt.figure(figsize=(10, 7))\n",
        "\n",
        "_lrfn = build_lrfn()\n",
        "plt.plot([i for i in range(35)], [_lrfn(i) for i in range(35)]);"
      ]
    },
    {
      "cell_type": "markdown",
      "metadata": {
        "id": "hqAv819r6k6j"
      },
      "source": [
        "## Train Model"
      ]
    },
    {
      "cell_type": "markdown",
      "metadata": {
        "id": "B3Ei6esq6k6k"
      },
      "source": [
        "### First Stage"
      ]
    },
    {
      "cell_type": "code",
      "execution_count": null,
      "metadata": {
        "id": "tnWP6o6K6k6k",
        "outputId": "13966482-b9e3-44db-daf1-a175b56071df"
      },
      "outputs": [
        {
          "name": "stdout",
          "output_type": "stream",
          "text": [
            "Train for 150 steps, validate for 250 steps\n",
            "\n",
            "Epoch 00001: LearningRateScheduler reducing learning rate to 1e-06.\n",
            "Epoch 1/35\n",
            "150/150 [==============================] - 138s 918ms/step - loss: 0.0625 - auc: 0.4895 - val_loss: 0.0667 - val_auc: 0.5560\n",
            "\n",
            "Epoch 00002: LearningRateScheduler reducing learning rate to 5.428571428571429e-06.\n",
            "Epoch 2/35\n",
            "150/150 [==============================] - 49s 325ms/step - loss: 0.0435 - auc: 0.5449 - val_loss: 0.0564 - val_auc: 0.6199\n",
            "\n",
            "Epoch 00003: LearningRateScheduler reducing learning rate to 9.857142857142859e-06.\n",
            "Epoch 3/35\n",
            "150/150 [==============================] - 49s 327ms/step - loss: 0.0377 - auc: 0.6648 - val_loss: 0.0453 - val_auc: 0.8557\n",
            "\n",
            "Epoch 00004: LearningRateScheduler reducing learning rate to 1.4285714285714289e-05.\n",
            "Epoch 4/35\n",
            "150/150 [==============================] - 49s 327ms/step - loss: 0.0177 - auc: 0.9487 - val_loss: 0.0539 - val_auc: 0.9067\n",
            "\n",
            "Epoch 00005: LearningRateScheduler reducing learning rate to 1.8714285714285717e-05.\n",
            "Epoch 5/35\n",
            "150/150 [==============================] - 49s 327ms/step - loss: 0.0154 - auc: 0.9604 - val_loss: 0.0428 - val_auc: 0.9067\n",
            "\n",
            "Epoch 00006: LearningRateScheduler reducing learning rate to 2.3142857142857145e-05.\n",
            "Epoch 6/35\n",
            "150/150 [==============================] - 49s 325ms/step - loss: 0.0151 - auc: 0.9642 - val_loss: 0.0429 - val_auc: 0.9012\n",
            "\n",
            "Epoch 00007: LearningRateScheduler reducing learning rate to 2.7571428571428577e-05.\n",
            "Epoch 7/35\n",
            "150/150 [==============================] - 49s 325ms/step - loss: 0.0152 - auc: 0.9660 - val_loss: 0.0536 - val_auc: 0.8981\n",
            "\n",
            "Epoch 00008: LearningRateScheduler reducing learning rate to 3.2e-05.\n",
            "Epoch 8/35\n",
            "150/150 [==============================] - 49s 327ms/step - loss: 0.0141 - auc: 0.9692 - val_loss: 0.0574 - val_auc: 0.9059\n",
            "\n",
            "Epoch 00009: LearningRateScheduler reducing learning rate to 2.7852999999999996e-05.\n",
            "Epoch 9/35\n",
            "150/150 [==============================] - 49s 325ms/step - loss: 0.0142 - auc: 0.9700 - val_loss: 0.0460 - val_auc: 0.9073\n",
            "\n",
            "Epoch 00010: LearningRateScheduler reducing learning rate to 2.4245109999999997e-05.\n",
            "Epoch 10/35\n",
            "150/150 [==============================] - 49s 328ms/step - loss: 0.0128 - auc: 0.9743 - val_loss: 0.0372 - val_auc: 0.9100\n",
            "\n",
            "Epoch 00011: LearningRateScheduler reducing learning rate to 2.1106245699999996e-05.\n",
            "Epoch 11/35\n",
            "150/150 [==============================] - 49s 325ms/step - loss: 0.0129 - auc: 0.9768 - val_loss: 0.0377 - val_auc: 0.9123\n",
            "\n",
            "Epoch 00012: LearningRateScheduler reducing learning rate to 1.8375433758999994e-05.\n",
            "Epoch 12/35\n",
            "150/150 [==============================] - 49s 328ms/step - loss: 0.0115 - auc: 0.9826 - val_loss: 0.0376 - val_auc: 0.9119\n",
            "\n",
            "Epoch 00013: LearningRateScheduler reducing learning rate to 1.5999627370329996e-05.\n",
            "Epoch 13/35\n",
            "150/150 [==============================] - 49s 325ms/step - loss: 0.0119 - auc: 0.9823 - val_loss: 0.0383 - val_auc: 0.9140\n",
            "\n",
            "Epoch 00014: LearningRateScheduler reducing learning rate to 1.3932675812187099e-05.\n",
            "Epoch 14/35\n",
            "150/150 [==============================] - 49s 326ms/step - loss: 0.0132 - auc: 0.9799 - val_loss: 0.0385 - val_auc: 0.9142\n",
            "\n",
            "Epoch 00015: LearningRateScheduler reducing learning rate to 1.2134427956602775e-05.\n",
            "Epoch 15/35\n",
            "150/150 [==============================] - 49s 325ms/step - loss: 0.0112 - auc: 0.9806 - val_loss: 0.0392 - val_auc: 0.9121\n",
            "\n",
            "Epoch 00016: LearningRateScheduler reducing learning rate to 1.0569952322244416e-05.\n",
            "Epoch 16/35\n",
            "150/150 [==============================] - 49s 330ms/step - loss: 0.0112 - auc: 0.9853 - val_loss: 0.0387 - val_auc: 0.9123\n",
            "\n",
            "Epoch 00017: LearningRateScheduler reducing learning rate to 9.208858520352642e-06.\n",
            "Epoch 17/35\n",
            "150/150 [==============================] - 49s 327ms/step - loss: 0.0141 - auc: 0.9734 - val_loss: 0.0492 - val_auc: 0.9093\n",
            "\n",
            "Epoch 00018: LearningRateScheduler reducing learning rate to 8.024706912706797e-06.\n",
            "Epoch 18/35\n",
            "150/150 [==============================] - 49s 327ms/step - loss: 0.0171 - auc: 0.9642 - val_loss: 0.0509 - val_auc: 0.9064\n",
            "\n",
            "Epoch 00019: LearningRateScheduler reducing learning rate to 6.994495014054913e-06.\n",
            "Epoch 19/35\n",
            "150/150 [==============================] - 49s 325ms/step - loss: 0.0151 - auc: 0.9727 - val_loss: 0.0563 - val_auc: 0.9030\n",
            "\n",
            "Epoch 00020: LearningRateScheduler reducing learning rate to 6.098210662227774e-06.\n",
            "Epoch 20/35\n",
            "150/150 [==============================] - 49s 329ms/step - loss: 0.0155 - auc: 0.9731 - val_loss: 0.0501 - val_auc: 0.9056\n",
            "\n",
            "Epoch 00021: LearningRateScheduler reducing learning rate to 5.318443276138163e-06.\n",
            "Epoch 21/35\n",
            "150/150 [==============================] - 49s 327ms/step - loss: 0.0161 - auc: 0.9706 - val_loss: 0.0542 - val_auc: 0.9040\n",
            "\n",
            "Epoch 00022: LearningRateScheduler reducing learning rate to 4.640045650240202e-06.\n",
            "Epoch 22/35\n",
            "150/150 [==============================] - 49s 326ms/step - loss: 0.0148 - auc: 0.9742 - val_loss: 0.0558 - val_auc: 0.9018\n",
            "\n",
            "Epoch 00023: LearningRateScheduler reducing learning rate to 4.049839715708976e-06.\n",
            "Epoch 23/35\n",
            "150/150 [==============================] - 49s 326ms/step - loss: 0.0151 - auc: 0.9735 - val_loss: 0.0508 - val_auc: 0.9043\n",
            "\n",
            "Epoch 00024: LearningRateScheduler reducing learning rate to 3.5363605526668095e-06.\n",
            "Epoch 24/35\n",
            "150/150 [==============================] - 49s 327ms/step - loss: 0.0131 - auc: 0.9787 - val_loss: 0.0398 - val_auc: 0.9075\n",
            "\n",
            "Epoch 00025: LearningRateScheduler reducing learning rate to 3.089633680820124e-06.\n",
            "Epoch 25/35\n",
            "150/150 [==============================] - 49s 327ms/step - loss: 0.0108 - auc: 0.9838 - val_loss: 0.0407 - val_auc: 0.9099\n",
            "\n",
            "Epoch 00026: LearningRateScheduler reducing learning rate to 2.700981302313508e-06.\n",
            "Epoch 26/35\n",
            "150/150 [==============================] - 49s 327ms/step - loss: 0.0117 - auc: 0.9833 - val_loss: 0.0399 - val_auc: 0.9115\n",
            "\n",
            "Epoch 00027: LearningRateScheduler reducing learning rate to 2.3628537330127517e-06.\n",
            "Epoch 27/35\n",
            "150/150 [==============================] - 49s 326ms/step - loss: 0.0106 - auc: 0.9861 - val_loss: 0.0403 - val_auc: 0.9123\n",
            "\n",
            "Epoch 00028: LearningRateScheduler reducing learning rate to 2.068682747721094e-06.\n",
            "Epoch 28/35\n",
            "150/150 [==============================] - 49s 326ms/step - loss: 0.0093 - auc: 0.9897 - val_loss: 0.0432 - val_auc: 0.9121\n",
            "\n",
            "Epoch 00029: LearningRateScheduler reducing learning rate to 1.812753990517352e-06.\n",
            "Epoch 29/35\n",
            "150/150 [==============================] - 49s 329ms/step - loss: 0.0084 - auc: 0.9915 - val_loss: 0.0427 - val_auc: 0.9134\n",
            "\n",
            "Epoch 00030: LearningRateScheduler reducing learning rate to 1.590095971750096e-06.\n",
            "Epoch 30/35\n",
            "150/150 [==============================] - 49s 327ms/step - loss: 0.0092 - auc: 0.9905 - val_loss: 0.0438 - val_auc: 0.9134\n",
            "\n",
            "Epoch 00031: LearningRateScheduler reducing learning rate to 1.3963834954225837e-06.\n",
            "Epoch 31/35\n",
            "150/150 [==============================] - 49s 326ms/step - loss: 0.0080 - auc: 0.9923 - val_loss: 0.0435 - val_auc: 0.9130\n",
            "\n",
            "Epoch 00032: LearningRateScheduler reducing learning rate to 1.227853641017648e-06.\n",
            "Epoch 32/35\n",
            "150/150 [==============================] - 49s 326ms/step - loss: 0.0080 - auc: 0.9932 - val_loss: 0.0461 - val_auc: 0.9119\n",
            "\n",
            "Epoch 00033: LearningRateScheduler reducing learning rate to 1.0812326676853534e-06.\n",
            "Epoch 33/35\n",
            "150/150 [==============================] - 49s 326ms/step - loss: 0.0074 - auc: 0.9936 - val_loss: 0.0467 - val_auc: 0.9119\n",
            "\n",
            "Epoch 00034: LearningRateScheduler reducing learning rate to 9.536724208862576e-07.\n",
            "Epoch 34/35\n",
            "150/150 [==============================] - 49s 326ms/step - loss: 0.0078 - auc: 0.9923 - val_loss: 0.0469 - val_auc: 0.9117\n",
            "\n",
            "Epoch 00035: LearningRateScheduler reducing learning rate to 8.426950061710441e-07.\n",
            "Epoch 35/35\n",
            "150/150 [==============================] - 49s 329ms/step - loss: 0.0083 - auc: 0.9929 - val_loss: 0.0470 - val_auc: 0.9123\n"
          ]
        }
      ],
      "source": [
        "roc_auc = RocAucCallback(test_dataset, 0.935)\n",
        "lrfn = build_lrfn()\n",
        "lr_schedule = tf.keras.callbacks.LearningRateScheduler(lrfn, verbose=1)\n",
        "\n",
        "train_history = model.fit(\n",
        "    train_dataset,\n",
        "    steps_per_epoch=150,\n",
        "    validation_data=valid_dataset,\n",
        "    callbacks=[lr_schedule, roc_auc],\n",
        "    epochs=35\n",
        ")"
      ]
    },
    {
      "cell_type": "markdown",
      "metadata": {
        "id": "Ps5-y2OF6k6l"
      },
      "source": [
        "# Reference\n",
        "* [Jigsaw TPU: DistilBERT with Huggingface and Keras](https://www.kaggle.com/xhlulu/jigsaw-tpu-distilbert-with-huggingface-and-keras)\n",
        "* [inference of bert tpu model ml w/ validation](https://www.kaggle.com/abhishek/inference-of-bert-tpu-model-ml-w-validation)\n",
        "* [Overview of Text Similarity Metrics in Python](https://towardsdatascience.com/overview-of-text-similarity-metrics-3397c4601f50)\n",
        "* [test-en-df](https://www.kaggle.com/bamps53/test-en-df)\n",
        "* [val_en_df](https://www.kaggle.com/bamps53/val-en-df)\n",
        "* [Jigsaw multilingual toxic - test translated](https://www.kaggle.com/kashnitsky/jigsaw-multilingual-toxic-test-translated)"
      ]
    }
  ],
  "metadata": {
    "kernelspec": {
      "display_name": "Python 3",
      "language": "python",
      "name": "python3"
    },
    "language_info": {
      "codemirror_mode": {
        "name": "ipython",
        "version": 3
      },
      "file_extension": ".py",
      "mimetype": "text/x-python",
      "name": "python",
      "nbconvert_exporter": "python",
      "pygments_lexer": "ipython3",
      "version": "3.6.6"
    },
    "widgets": {
      "application/vnd.jupyter.widget-state+json": {}
    },
    "colab": {
      "name": "jigsaw-tpu-bert-two-stage-training.ipynb",
      "provenance": []
    }
  },
  "nbformat": 4,
  "nbformat_minor": 0
}